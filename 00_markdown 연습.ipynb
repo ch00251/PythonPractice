{
 "cells": [
  {
   "cell_type": "markdown",
   "id": "a185a101",
   "metadata": {},
   "source": [
    "# 제목(h1)\n",
    "\n",
    "## 제목(h2)\n",
    "\n",
    "### 제목(h3)\n",
    "\n",
    "#### 제목(h4)\n",
    "\n",
    "##### 제목\n",
    "\n",
    "글자 크기\n",
    "=\n",
    "\n",
    "글자 크기\n",
    "--"
   ]
  },
  {
   "cell_type": "markdown",
   "id": "a5ce4d12",
   "metadata": {},
   "source": [
    "---\n",
    "\n",
    "들여쓰기 연습입니다.\n",
    "> 첫번째 들여쓰기\n",
    "\n",
    "> 두번째 들여쓰기\n",
    "\n",
    ">> 세번째 들여쓰기"
   ]
  },
  {
   "cell_type": "markdown",
   "id": "10da72fa",
   "metadata": {},
   "source": [
    "---\n",
    "리스트 연습\n",
    "\n",
    "과일의 종류\n",
    "1. 사과\n",
    "2. 배\n",
    "3. 포도\n",
    "\n",
    "좋아하는 색상\n",
    "+ 빨강\n",
    "- 노랑 \n",
    "* 파랑\n",
    "\n"
   ]
  },
  {
   "cell_type": "markdown",
   "id": "f9052051",
   "metadata": {},
   "source": [
    "글씨체를 *이탤릭체*로 표현\n",
    "\n",
    "글씨체를 **볼드체**로 표현\n",
    "\n",
    "이번에는 ~관통선~ 입니다\n",
    "\n",
    "수학식 : $y=3x$"
   ]
  },
  {
   "cell_type": "markdown",
   "id": "5b843b76",
   "metadata": {},
   "source": [
    "[네이버](http://www.naver.com)\n",
    "\n",
    "![이미지 샘플](images/이미지.png)\n"
   ]
  }
 ],
 "metadata": {
  "kernelspec": {
   "display_name": "Python 3 (ipykernel)",
   "language": "python",
   "name": "python3"
  },
  "language_info": {
   "codemirror_mode": {
    "name": "ipython",
    "version": 3
   },
   "file_extension": ".py",
   "mimetype": "text/x-python",
   "name": "python",
   "nbconvert_exporter": "python",
   "pygments_lexer": "ipython3",
   "version": "3.9.7"
  }
 },
 "nbformat": 4,
 "nbformat_minor": 5
}
