{
 "cells": [
  {
   "cell_type": "markdown",
   "id": "4db94162",
   "metadata": {},
   "source": [
    "## 1. 변수의 특징\n",
    "\n",
    "+ 묵시적 선언\n",
    "+ 동적 바인딩\n",
    "+ immutable(불변성)"
   ]
  },
  {
   "cell_type": "code",
   "execution_count": 13,
   "id": "1bf62c2b",
   "metadata": {},
   "outputs": [
    {
     "name": "stdout",
     "output_type": "stream",
     "text": [
      "10\n",
      "3.14\n",
      "가나다\n",
      "True\n"
     ]
    }
   ],
   "source": [
    "a = 10\n",
    "print(a)\n",
    "\n",
    "a=3.14\n",
    "print(a)\n",
    "\n",
    "a=\"가나다\"\n",
    "print(a)\n",
    "\n",
    "a=True\n",
    "print(a)"
   ]
  },
  {
   "cell_type": "code",
   "execution_count": 14,
   "id": "ad8b8d58",
   "metadata": {},
   "outputs": [
    {
     "name": "stdout",
     "output_type": "stream",
     "text": [
      "10\n",
      "20\n"
     ]
    }
   ],
   "source": [
    "a = 10 #a라는 변수에 10을 저장하겠다는 의미x, 10을 어느 공간에 저장하겠다는 의미\n",
    "print(a) #저장된 위치를 찾아가 값을 꺼내겠다는 의미\n",
    "\n",
    "a = 20 #10이라는 값이 20으로 변하는게 아니라 20이라는 데이터를 새로운 공간에 저장하는 것!\n",
    "print(a) "
   ]
  },
  {
   "cell_type": "code",
   "execution_count": 11,
   "id": "a861dfb0",
   "metadata": {
    "collapsed": true
   },
   "outputs": [
    {
     "ename": "SyntaxError",
     "evalue": "invalid syntax (Temp/ipykernel_324/1776475104.py, line 1)",
     "output_type": "error",
     "traceback": [
      "\u001b[1;36m  File \u001b[1;32m\"C:\\Users\\ch002\\AppData\\Local\\Temp/ipykernel_324/1776475104.py\"\u001b[1;36m, line \u001b[1;32m1\u001b[0m\n\u001b[1;33m    int i\u001b[0m\n\u001b[1;37m        ^\u001b[0m\n\u001b[1;31mSyntaxError\u001b[0m\u001b[1;31m:\u001b[0m invalid syntax\n"
     ]
    }
   ],
   "source": [
    "int i;\n",
    "i = 10  #비객체일때는 i라는 객체에 10을 저장할 수 있음(값을 직접적으로 저장)\n",
    "\n",
    "Integer i = new Integer();\n",
    "i=10;  #객체일때는 10이라는 값이 별도의 위치(heap)에 저장됨\n",
    "i=11; #10이 11로 변하는게 아니라 저장되는 위치가 다르다(불변성)"
   ]
  },
  {
   "cell_type": "markdown",
   "id": "355e500e",
   "metadata": {},
   "source": [
    "## 2. Data Type\n",
    "\n",
    "1. 기본 자료형\n",
    "   - int\n",
    "   - float\n",
    "   - str\n",
    "   - bool\n",
    "\n",
    "2. 집합 자료형\n",
    "   - list\n",
    "   - tuple\n",
    "   - dict\n",
    "   - set\n",
    "   "
   ]
  },
  {
   "cell_type": "code",
   "execution_count": 18,
   "id": "d5597358",
   "metadata": {},
   "outputs": [
    {
     "name": "stdout",
     "output_type": "stream",
     "text": [
      "<class 'int'>\n",
      "<class 'float'>\n",
      "<class 'bool'>\n",
      "<class 'str'>\n"
     ]
    }
   ],
   "source": [
    "a = 10 #값을 하나씩만 저장할 수 있음\n",
    "type(a) #데이터 타입을 알려줌\n",
    "print(type(a))\n",
    "\n",
    "a=3.14\n",
    "print(type(a))\n",
    "\n",
    "a=True\n",
    "print(type(a))\n",
    "\n",
    "a=\"가나다라\"\n",
    "print(type(a))"
   ]
  },
  {
   "cell_type": "markdown",
   "id": "f0204502",
   "metadata": {},
   "source": [
    "### (1) str"
   ]
  },
  {
   "cell_type": "code",
   "execution_count": 23,
   "id": "1bbd4b11",
   "metadata": {},
   "outputs": [
    {
     "name": "stdout",
     "output_type": "stream",
     "text": [
      "<class 'int'>\n",
      "<class 'str'>\n",
      "안녕하세요\n",
      "안녕하세요\n",
      "저는 홍길동이라고\n",
      "합니다\n"
     ]
    }
   ],
   "source": [
    "a = 10\n",
    "print(type(a))\n",
    "\n",
    "a=\"10\"\n",
    "print(type(a))\n",
    "\n",
    "a='안녕하세요'\n",
    "print(a)\n",
    "\n",
    "a='''안녕하세요\n",
    "저는 홍길동이라고\n",
    "합니다'''\n",
    "print(a)"
   ]
  },
  {
   "cell_type": "code",
   "execution_count": 27,
   "id": "322af9a5",
   "metadata": {},
   "outputs": [
    {
     "name": "stdout",
     "output_type": "stream",
     "text": [
      "이것은 줄바꿈문자입니다. \n",
      "\n",
      "\n",
      "줄바꿈이 되었나요?\n",
      "\\n은 줄바꿈 기능을 가진 특수문자이다\n"
     ]
    }
   ],
   "source": [
    "##### 특수문자 : \\문자(\\n, \\t, ...), \\(escape)\n",
    "\n",
    "print(\"이것은 줄바꿈문자입니다. \\n\\n\\n줄바꿈이 되었나요?\")\n",
    "\n",
    "print(\"\\\\n은 줄바꿈 기능을 가진 특수문자이다\")"
   ]
  },
  {
   "cell_type": "code",
   "execution_count": 28,
   "id": "63e9c6dd",
   "metadata": {},
   "outputs": [
    {
     "name": "stdout",
     "output_type": "stream",
     "text": [
      "20\n"
     ]
    }
   ],
   "source": [
    "# \\를 줄바꿈의 용도로도 사용한다\n",
    "\n",
    "a = 10 + 5 + 2 \\\n",
    "* 3 - 1\n",
    "print(a)"
   ]
  },
  {
   "cell_type": "code",
   "execution_count": 31,
   "id": "5060057c",
   "metadata": {},
   "outputs": [
    {
     "name": "stdout",
     "output_type": "stream",
     "text": [
      "python is fun and great\n",
      "('python', ' is fun', ' and great')\n"
     ]
    }
   ],
   "source": [
    "# 문자열 연결\n",
    "a='python'\n",
    "b=' is fun'\n",
    "c=\" and great\"\n",
    "d=a+b+c\n",
    "print(d)\n",
    "\n",
    "d=a,b,c\n",
    "print(d)"
   ]
  },
  {
   "cell_type": "code",
   "execution_count": 33,
   "id": "aafc5779",
   "metadata": {},
   "outputs": [
    {
     "name": "stdout",
     "output_type": "stream",
     "text": [
      "pythonpythonpython\n"
     ]
    }
   ],
   "source": [
    "# 문자열의 반복\n",
    "\n",
    "print(a*3)"
   ]
  },
  {
   "cell_type": "code",
   "execution_count": 34,
   "id": "4368ef68",
   "metadata": {},
   "outputs": [
    {
     "name": "stdout",
     "output_type": "stream",
     "text": [
      "6\n",
      "7\n",
      "10\n"
     ]
    }
   ],
   "source": [
    "# 문자열의 길이\n",
    "print(len(a))\n",
    "print(len(b))\n",
    "print(len(c))"
   ]
  },
  {
   "cell_type": "code",
   "execution_count": 40,
   "id": "0da533d4",
   "metadata": {},
   "outputs": [
    {
     "name": "stdout",
     "output_type": "stream",
     "text": [
      "e\n",
      "o\n",
      "33\n",
      "n\n",
      "n\n",
      "o\n"
     ]
    }
   ],
   "source": [
    "# 인덱싱(indexing) : 원하는 문자에 접근할 수 있는 방법을 제공\n",
    "a = \"Life is too short, You need python\"\n",
    "\n",
    "print(a[3])\n",
    "print(a[10])\n",
    "\n",
    "print(len(a)-1)#마지막 위치\n",
    "print(a[33])\n",
    "\n",
    "print(a[-1])#뒤에서부터 셀 수 있음\n",
    "print(a[-2])"
   ]
  },
  {
   "cell_type": "code",
   "execution_count": 49,
   "id": "571db237",
   "metadata": {},
   "outputs": [
    {
     "name": "stdout",
     "output_type": "stream",
     "text": [
      "Life i\n",
      "Life i\n",
      "s too short, You need python\n",
      "Life is too short, You need python\n",
      "You need\n",
      "----------------------------------------\n",
      "Life i\n",
      "Lf \n",
      "Life is too short, You need python\n",
      "nohtyp deen uoY ,trohs oot si efiL\n"
     ]
    }
   ],
   "source": [
    "# 슬라이싱(Slicing) : [시작위치 : 끝위치 : 간격]\n",
    "\n",
    "print(a[0:6])\n",
    "print(a[:6])#처음부터 6번째까지\n",
    "print(a[6:])#6번째부터 마지막까지\n",
    "print(a[:])#전체 다\n",
    "print(a[19:-7])#역순으로도 가능\n",
    "print(\"----------------------------------------\")\n",
    "print(a[0:6:1])\n",
    "print(a[0:6:2])\n",
    "print(a[::1])#print(a[:])와 같은 의미\n",
    "print(a[::-1])"
   ]
  },
  {
   "cell_type": "code",
   "execution_count": 51,
   "id": "d2765e09",
   "metadata": {},
   "outputs": [
    {
     "data": {
      "text/plain": [
       "'python'"
      ]
     },
     "execution_count": 51,
     "metadata": {},
     "output_type": "execute_result"
    }
   ],
   "source": [
    "# 수정 불가\n",
    "a=\"pithon\"\n",
    "\n",
    "#a[1]='y'\n",
    "\n",
    "#a='python'\n",
    "a[:1]+'y'+a[2:]"
   ]
  },
  {
   "cell_type": "code",
   "execution_count": 65,
   "id": "0b4f71d9",
   "metadata": {},
   "outputs": [
    {
     "name": "stdout",
     "output_type": "stream",
     "text": [
      "23\n",
      "3\n",
      "--------------------------------\n",
      "a,b,c,d,e,f,g\n",
      "--------------------------------\n",
      "--------------------------------\n"
     ]
    },
    {
     "data": {
      "text/plain": [
       "2"
      ]
     },
     "execution_count": 65,
     "metadata": {},
     "output_type": "execute_result"
    }
   ],
   "source": [
    "##### 문자열 관련 함수\n",
    "\n",
    "# count() : 특정 문자가 포함된 갯수를 찾는 함수\n",
    "str1 = '홍길동, 홍경래, 홍장군, 임경업, 신돌석'\n",
    "print(len(str1))\n",
    "print(str1.count(\"홍\"))#홍이라는 글자가 몇개인지 찾는거\n",
    "print(\"--------------------------------\")\n",
    "\n",
    "#join()\n",
    "str1=\"abcdefg\"\n",
    "print(\",\".join(str1))\n",
    "print(\"--------------------------------\")\n",
    "\n",
    "# split()\n",
    "str1 = '홍길동, 홍경래, 홍장군, 임경업, 신돌석'\n",
    "str1.split(',')\n",
    "print(\"--------------------------------\")\n",
    "\n",
    "# find(), index()\n",
    "a=\"Python is the best choice\"\n",
    "a.find('b')\n",
    "b=\"Life is too short\"\n",
    "b.index('f')\n",
    "# lstrip(), rstrip(), strip()\n",
    "\n",
    "# replace()"
   ]
  },
  {
   "cell_type": "code",
   "execution_count": 5,
   "id": "c0b2f9f5",
   "metadata": {},
   "outputs": [
    {
     "name": "stdout",
     "output_type": "stream",
     "text": [
      "현재 온도는 18도입니다.\n",
      "현재 온도는 20도입니다. 그리고 오늘의 날씨는 화창합니다\n",
      "나눗셈 결과 : 3 / 5 = 0.6입니다.\n",
      "나눗셈 결과 : 3 / 5 = 0.6 입니다.\n",
      "나눗셈 결과 : 3 / 5 = 0.6 입니다.\n",
      "나눗셈 결과 : 3 / 5 = 0.6 입니다.\n",
      "***나눗셈**** 결과 : 3 / 5 =  0.60 입니다.\n"
     ]
    }
   ],
   "source": [
    "##### 문자열 포매팅 #####\n",
    "\n",
    "### % 를 이용한 방법\n",
    "print(\"현재 온도는 18도입니다.\")\n",
    "print(\"현재 온도는 %d도입니다. 그리고 오늘의 날씨는 %s\" % (20,\"화창합니다\"))  \n",
    "\n",
    "# 나눗셈 결과 3/5 = 0.6 입니다.\n",
    "print(\"나눗셈 결과 : %d %c %d = %0.1f입니다.\" %(3,'/',5,3/5))\n",
    "\n",
    "\n",
    "### format()을 이용한 방법\n",
    "print(\"{} 결과 : {} {} {} = {} 입니다.\".format('나눗셈',3,'/',5,3/5))\n",
    "print(\"{3} 결과 : {0} {1} {2} = {4} 입니다.\".format(3,'/',5,'나눗셈',3/5))\n",
    "print(\"{title} 결과 : {num1} {op} {num2} = {result} 입니다.\".format(title=\"나눗셈\", \n",
    "                                                               num1=3, op=\"/\", num2=5, result=3/5))\n",
    "print(\"{3:*^10} 결과 : {0} {1} {2} = {4:5.2f} 입니다.\".format(3,\"/\",5,\"나눗셈\",3/5))\n"
   ]
  },
  {
   "cell_type": "markdown",
   "id": "62492b8f",
   "metadata": {},
   "source": [
    "### (2) bool"
   ]
  },
  {
   "cell_type": "code",
   "execution_count": 3,
   "id": "8b646aa5",
   "metadata": {},
   "outputs": [
    {
     "name": "stdout",
     "output_type": "stream",
     "text": [
      "True True True False\n",
      "True True False True False\n"
     ]
    }
   ],
   "source": [
    "print(bool(10),bool(3.14),bool(-2),bool(0))\n",
    "print(bool('가'), bool('가나다'),bool(''),bool(' '),bool(None))"
   ]
  },
  {
   "cell_type": "markdown",
   "id": "434916d0",
   "metadata": {},
   "source": [
    "### (3) list\n",
    "\n",
    "- \"[ ]\" 사용\n",
    "- 임의의 객체를 순차적으로 저장하는 집합적 자료형(Sequence Data)\n",
    "- 인덱스 사용\n",
    "- mutable(변경가능)"
   ]
  },
  {
   "cell_type": "code",
   "execution_count": 6,
   "id": "ba7295db",
   "metadata": {},
   "outputs": [
    {
     "name": "stdout",
     "output_type": "stream",
     "text": [
      "<class 'int'> <class 'list'>\n",
      "10 [10, 11, 12]\n",
      "10 11 12\n",
      "['james', 178, 3.14, True]\n",
      "['james', 180, 3.14, True]\n"
     ]
    }
   ],
   "source": [
    "#a = 10\n",
    "#b = 11\n",
    "#c = 12\n",
    "\n",
    "a, b, c = 10, 11, 12\n",
    "\n",
    "d = [10, 11, 12]\n",
    "\n",
    "print(type(a), type(d))\n",
    "print(a,d)\n",
    "print(d[0],d[1],d[2])\n",
    "\n",
    "e = [\"james\", 178, 3.14, True]\n",
    "print(e)\n",
    "e[1]=180 #값 변경 가능\n",
    "print(e)"
   ]
  },
  {
   "cell_type": "code",
   "execution_count": 21,
   "id": "c4fbc1af",
   "metadata": {},
   "outputs": [
    {
     "name": "stdout",
     "output_type": "stream",
     "text": [
      "['a', 'b', 'c']\n",
      "a\n",
      "b\n"
     ]
    }
   ],
   "source": [
    "# indexing\n",
    "\n",
    "a = [1, 2, 3, \"가\", 3.14, [\"a\",\"b\",\"c\"]]\n",
    "print(a[5])\n",
    "print(a[5][0])\n",
    "print(a[-1][-2])"
   ]
  },
  {
   "cell_type": "code",
   "execution_count": 10,
   "id": "777225d6",
   "metadata": {},
   "outputs": [
    {
     "name": "stdout",
     "output_type": "stream",
     "text": [
      "[10, 2, 3, 4, 5]\n",
      "-------------------------------------\n",
      "[10, 2, 3, 4, 5]\n"
     ]
    }
   ],
   "source": [
    "# 복사(얕은 복사, 깊은 복사)\n",
    "\n",
    "a = [1, 2, 3, 4, 5]\n",
    "b = a\n",
    "b[0] = 10\n",
    "print(a)\n",
    "\n",
    "print(\"-------------------------------------\")\n",
    "b=a[0:5]\n",
    "b[0]=10\n",
    "print(a)"
   ]
  },
  {
   "cell_type": "code",
   "execution_count": 31,
   "id": "301c5780",
   "metadata": {},
   "outputs": [
    {
     "name": "stdout",
     "output_type": "stream",
     "text": [
      "<class 'list'>\n",
      "--------------------------\n",
      "[0, 1, 2, 3]\n",
      "[0, 1, 2, 3, 4, 5, 6, 7, 8, 9]\n",
      "[5, 6, 7, 8, 9, 10, 11]\n",
      "[5, 7, 9, 11]\n",
      "[-4, -3, -2, -1, 0, 1, 2, 3, 4, 5, 6, 7, 8, 9, 10, 11]\n",
      "[10, 9, 8, 7, 6, 5, 4, 3, 2, 1]\n"
     ]
    }
   ],
   "source": [
    "#### list 생성 \n",
    "\n",
    "a=[]\n",
    "a=list()\n",
    "\n",
    "print(type(a))\n",
    "\n",
    "print(\"--------------------------\")\n",
    "\n",
    "# 초기화\n",
    "a = list([0,1,2,3])\n",
    "print(a)\n",
    "\n",
    "a=list(range(10)) #10개의 데이터를 순서대로 만들겠다는 의미(반복문)\n",
    "# range(0,10), range(0,10,1)\n",
    "print(a)\n",
    "\n",
    "a=list(range(5,12))\n",
    "print(a)\n",
    "\n",
    "a=list(range(5,12,2))\n",
    "print(a)\n",
    "\n",
    "a=list(range(-4,12,1))\n",
    "print(a)\n",
    "\n",
    "# 10 9 8 7 6 5 4 3 2 1 이 출력되게 작성\n",
    "a=list(range(10,0,-1))\n",
    "print(a)"
   ]
  },
  {
   "cell_type": "code",
   "execution_count": 39,
   "id": "13d0a340",
   "metadata": {},
   "outputs": [
    {
     "name": "stdout",
     "output_type": "stream",
     "text": [
      "<class 'str'> <class 'int'>\n",
      "<class 'int'> <class 'str'>\n",
      "<class 'float'> 10.0\n",
      "<class 'bool'> True\n",
      "<class 'list'> ['1', '0']\n"
     ]
    }
   ],
   "source": [
    "####  각 자료형 함수\n",
    "\n",
    "a=\"10\"\n",
    "\n",
    "print(type(a), type(int(a)))\n",
    "\n",
    "a=int(a)\n",
    "print(type(a),type(str(a)))\n",
    "\n",
    "print(type(float(a)),float(a))\n",
    "\n",
    "print(type(bool(a)), bool(a))\n",
    "\n",
    "a=\"10\"  #a를 bool로 바꿨었기 때문에 다시\n",
    "print(type(list(a)), list(a))"
   ]
  },
  {
   "cell_type": "code",
   "execution_count": 40,
   "id": "f32f2164",
   "metadata": {},
   "outputs": [
    {
     "name": "stdout",
     "output_type": "stream",
     "text": [
      "[1, 2, 3, 4, 5, 6]\n",
      "[1, 2, 3, 1, 2, 3, 1, 2, 3]\n",
      "2hi\n"
     ]
    }
   ],
   "source": [
    "#### 연산 가능\n",
    "a=[1,2,3]\n",
    "b=[4,5,6]\n",
    "\n",
    "print(a + b)\n",
    "print(a * 3)\n",
    "print(str(a[1])+\"hi\")"
   ]
  },
  {
   "cell_type": "code",
   "execution_count": 47,
   "id": "38f70c58",
   "metadata": {},
   "outputs": [
    {
     "name": "stdout",
     "output_type": "stream",
     "text": [
      "[1, 1.5, 2, 3]\n",
      "[1, 1.5, 2, 3, 4]\n",
      "[1, 1.5, 2, 3, 4, 5, 6]\n",
      "[1, 1.5, 2, 3, 4, 5, 6, 7]\n",
      "[1, 1.5, 2, 3, 4, 5, 6, 7, [8, 9]]\n"
     ]
    }
   ],
   "source": [
    "##### 추가하기 : insert(), append(), extend()\n",
    "\n",
    "a = [1,2,3]\n",
    "\n",
    "a.insert(1,1.5) #1번째 위치에 1.5를 넣어준다\n",
    "print(a)\n",
    "\n",
    "a.extend([4]) #extend로 넣어줄때는 리스트처럼 []안에 넣어줘야 한다\n",
    "print(a)\n",
    "\n",
    "a.extend([5,6])\n",
    "print(a)\n",
    "\n",
    "a.append(7)\n",
    "print(a)\n",
    "\n",
    "a.append([8,9])#append는 list로 넣어주면 list 자체가 하나의 데이터로 뽑아온다\n",
    "print(a)\n",
    "\n",
    "# extend는 말그대로 확장, append는 추가"
   ]
  },
  {
   "cell_type": "code",
   "execution_count": 49,
   "id": "ff8698d0",
   "metadata": {},
   "outputs": [
    {
     "name": "stdout",
     "output_type": "stream",
     "text": [
      "[1, 2, 3, 4]\n",
      "[4, 3, 2, 1]\n"
     ]
    }
   ],
   "source": [
    "##### 정렬\n",
    "\n",
    "a = [1,4,3,2]\n",
    "a.sort()  #작은 순서대로 정렬\n",
    "print(a)\n",
    "\n",
    "#내림차순 하려면 먼저 오름차순으로 정렬하고 역순으로 바꿔야 한다\n",
    "a.reverse()#역순\n",
    "print(a)"
   ]
  },
  {
   "cell_type": "code",
   "execution_count": 53,
   "id": "efa7a414",
   "metadata": {},
   "outputs": [
    {
     "name": "stdout",
     "output_type": "stream",
     "text": [
      "[1, 2, 3, 4]\n",
      "[1, 4, 3, 2]\n",
      "[1, 2, 3, 4]\n"
     ]
    }
   ],
   "source": [
    "a=[1,4,3,2]\n",
    "print(sorted(a))\n",
    "print(a)  #(shorted()) 차이 : 원본은 바뀌지 않는다\n",
    "\n",
    "a=sorted(a)\n",
    "print(a)"
   ]
  },
  {
   "cell_type": "code",
   "execution_count": 61,
   "id": "2d498401",
   "metadata": {},
   "outputs": [
    {
     "name": "stdout",
     "output_type": "stream",
     "text": [
      "[1, 1, 2, 3]\n",
      "[1, 2, 1, 2, 3]\n",
      "[1, 2, 3, 1, 3]\n",
      "[1, 1, 2, 3]\n",
      "[1, 2] 3\n"
     ]
    }
   ],
   "source": [
    "##### 제거\n",
    "\n",
    "# 범위를 지정해서 삭제\n",
    "a=[1,2,3,1,2,3]\n",
    "a[1:3]=[] #1위치부터 3위치까지 삭제(2,3을 삭제)\n",
    "print(a)\n",
    "\n",
    "# 값을 찾아서 삭제\n",
    "a=[1,2,3,1,2,3]\n",
    "a.remove(3)#첫번째로 검색되는 3을 삭제한다\n",
    "print(a)\n",
    "\n",
    "#위치를 지정해서 삭제\n",
    "a=[1,2,3,1,2,3]\n",
    "del a[4] #4번째 위치 삭제\n",
    "print(a)\n",
    "\n",
    "a=[1,2,3,1,2,3]\n",
    "del a[1:3]\n",
    "print(a)\n",
    "\n",
    "#stack\n",
    "a=[1,2,3]\n",
    "b=a.pop() #a리스트의 맨 마지막 요소를 돌려주고 그 요소는 삭제\n",
    "print(a,b)"
   ]
  },
  {
   "cell_type": "code",
   "execution_count": 66,
   "id": "0ac5bda2",
   "metadata": {},
   "outputs": [
    {
     "name": "stdout",
     "output_type": "stream",
     "text": [
      "3\n",
      "True\n",
      "False\n"
     ]
    }
   ],
   "source": [
    "##### 검색 : index(), find()\n",
    "a=[1,2,3,4,5]\n",
    "\n",
    "print(a.index(4))#위치를 출력해준다\n",
    "#print(a.index(7))#없는것을 검색하면 에러 발생\n",
    "\n",
    "print(4 in a)\n",
    "print(7 in a)"
   ]
  },
  {
   "cell_type": "markdown",
   "id": "cb4e513e",
   "metadata": {},
   "source": [
    "### (4)tuple\n",
    "\n",
    "#레코드와 tuple은 같은 말(서로 다른 속성을 하나로 묶어줌)\n",
    "+ ( ) 사용\n",
    "+ immutable"
   ]
  },
  {
   "cell_type": "code",
   "execution_count": 68,
   "id": "a495c174",
   "metadata": {},
   "outputs": [
    {
     "name": "stdout",
     "output_type": "stream",
     "text": [
      "('a', 'b', 'c', 'd')\n",
      "<class 'tuple'>\n",
      "4\n",
      "1\n",
      "1\n"
     ]
    }
   ],
   "source": [
    "a=('a','b','c','d')\n",
    "print(a)\n",
    "print(type(a))\n",
    "print(len(a))\n",
    "print(a.count('c'))\n",
    "print(a.index('b'))"
   ]
  },
  {
   "cell_type": "code",
   "execution_count": 71,
   "id": "aa8c11ce",
   "metadata": {},
   "outputs": [
    {
     "name": "stdout",
     "output_type": "stream",
     "text": [
      "['a', 10, 'c', 'd']\n",
      "('a', 10, 'c', 'd')\n"
     ]
    }
   ],
   "source": [
    "#a[1]=10 #tuple은 수정 불가\n",
    "\n",
    "#수정하려면 list로 바꿔서 수정하고 다시 tuple로 바꾸기\n",
    "b=list(a)\n",
    "b[1]=10\n",
    "print(b)\n",
    "\n",
    "c=tuple(b)\n",
    "print(c)"
   ]
  },
  {
   "cell_type": "code",
   "execution_count": 73,
   "id": "e242b788",
   "metadata": {},
   "outputs": [
    {
     "name": "stdout",
     "output_type": "stream",
     "text": [
      "(10, 20, 30)\n",
      "10 20 30\n"
     ]
    }
   ],
   "source": [
    "#### Packing & Unpacking\n",
    "\n",
    "a=10,20,30 # packing\n",
    "print(a)\n",
    "\n",
    "a1,a2,a3 =a #unpacking\n",
    "print(a1,a2,a3)\n"
   ]
  },
  {
   "cell_type": "markdown",
   "id": "9f023baa",
   "metadata": {},
   "source": [
    "### (5) dict\n",
    "\n",
    "+ 순서가 없다(순차적으로 저장되어있지 않음)\n",
    "+ 키를 이용해서 접근\n",
    "+ {키:값}\n",
    "+ 검색을 위한 용도로 사용한다"
   ]
  },
  {
   "cell_type": "code",
   "execution_count": 74,
   "id": "e5539abe",
   "metadata": {},
   "outputs": [
    {
     "name": "stdout",
     "output_type": "stream",
     "text": [
      "{'name': '홍길동', 'tel': '111-1111', 'age': 20}\n",
      "<class 'dict'>\n"
     ]
    }
   ],
   "source": [
    "a = {\"name\":\"홍길동\",\"tel\":\"111-1111\",\"age\":20}\n",
    "print(a)\n",
    "print(type(a))"
   ]
  },
  {
   "cell_type": "code",
   "execution_count": 75,
   "id": "846b12c7",
   "metadata": {},
   "outputs": [
    {
     "name": "stdout",
     "output_type": "stream",
     "text": [
      "홍길동 111-1111 20\n"
     ]
    }
   ],
   "source": [
    "print(a[\"name\"],a[\"tel\"],a[\"age\"])"
   ]
  },
  {
   "cell_type": "code",
   "execution_count": 76,
   "id": "6baa95f8",
   "metadata": {},
   "outputs": [
    {
     "name": "stdout",
     "output_type": "stream",
     "text": [
      "dict_keys(['name', 'tel', 'age'])\n",
      "dict_values(['홍길동', '111-1111', 20])\n",
      "dict_items([('name', '홍길동'), ('tel', '111-1111'), ('age', 20)])\n"
     ]
    }
   ],
   "source": [
    "print(a.keys())\n",
    "print(a.values())\n",
    "print(a.items())"
   ]
  },
  {
   "cell_type": "code",
   "execution_count": 77,
   "id": "50c8ae63",
   "metadata": {},
   "outputs": [
    {
     "name": "stdout",
     "output_type": "stream",
     "text": [
      "{'name': '임꺽정', 'tel': '111-1111', 'age': 20}\n"
     ]
    }
   ],
   "source": [
    "# 수정\n",
    "\n",
    "a[\"name\"]=\"임꺽정\"\n",
    "print(a)"
   ]
  },
  {
   "cell_type": "code",
   "execution_count": 78,
   "id": "6a43688d",
   "metadata": {},
   "outputs": [
    {
     "name": "stdout",
     "output_type": "stream",
     "text": [
      "{'name': '임꺽정', 'tel': '111-1111', 'age': 20, 'hobbies': ['낚시', '여행']}\n"
     ]
    }
   ],
   "source": [
    "# 추가\n",
    "a[\"hobbies\"]=[\"낚시\",\"여행\"]\n",
    "print(a)"
   ]
  },
  {
   "cell_type": "code",
   "execution_count": 79,
   "id": "8863d35e",
   "metadata": {},
   "outputs": [
    {
     "name": "stdout",
     "output_type": "stream",
     "text": [
      "{'name': '임꺽정', 'age': 20, 'hobbies': ['낚시', '여행']}\n"
     ]
    }
   ],
   "source": [
    "# 삭제\n",
    "del a[\"tel\"]\n",
    "print(a)"
   ]
  },
  {
   "cell_type": "code",
   "execution_count": 80,
   "id": "de3d1303",
   "metadata": {},
   "outputs": [
    {
     "name": "stdout",
     "output_type": "stream",
     "text": [
      "{}\n"
     ]
    }
   ],
   "source": [
    "a.clear()\n",
    "print(a)"
   ]
  },
  {
   "cell_type": "code",
   "execution_count": 82,
   "id": "6e4bbe0f",
   "metadata": {},
   "outputs": [
    {
     "name": "stdout",
     "output_type": "stream",
     "text": [
      "홍길동\n",
      "홍길동\n",
      "독서\n"
     ]
    }
   ],
   "source": [
    "# 데이터 가져오기 : get(\"키\",defult)\n",
    "a={\"name\":\"홍길동\",\"tel\":\"111-111\",\"age\":20}\n",
    "\n",
    "print(a[\"name\"])\n",
    "print(a.get(\"name\"))\n",
    "\n",
    "#print(a.get(\"hobby\"))#에러는 안나지만 null값이 나옴\n",
    "\n",
    "print(a.get(\"hobby\",\"독서\"))"
   ]
  },
  {
   "cell_type": "markdown",
   "id": "b9a1a9d2",
   "metadata": {},
   "source": [
    "### (6) set\n",
    "\n",
    "+ { } 사용\n",
    "+ 순서가 없다\n",
    "+ 중복 불가"
   ]
  },
  {
   "cell_type": "code",
   "execution_count": 84,
   "id": "8d0c20d7",
   "metadata": {},
   "outputs": [
    {
     "name": "stdout",
     "output_type": "stream",
     "text": [
      "{1, 2, 3, 4}\n",
      "<class 'set'>\n"
     ]
    }
   ],
   "source": [
    "a={1,2,3,4,2,4}\n",
    "print(a)\n",
    "print(type(a))"
   ]
  },
  {
   "cell_type": "code",
   "execution_count": 85,
   "id": "3f57c363",
   "metadata": {},
   "outputs": [
    {
     "data": {
      "text/plain": [
       "1"
      ]
     },
     "execution_count": 85,
     "metadata": {},
     "output_type": "execute_result"
    }
   ],
   "source": [
    "#print(a[0])  #이렇게는 출력이 안됨\n",
    "\n",
    "#tuple이나 list로 바꿔서 출력 해야함\n",
    "b=list(a)\n",
    "b[0]"
   ]
  },
  {
   "cell_type": "code",
   "execution_count": 86,
   "id": "db385bc9",
   "metadata": {},
   "outputs": [
    {
     "name": "stdout",
     "output_type": "stream",
     "text": [
      "[1, 2, 3, 4, 4, 5, 2]\n",
      "{1, 2, 3, 4, 5}\n",
      "[1, 2, 3, 4, 5]\n"
     ]
    }
   ],
   "source": [
    "a=[1,2,3,4,4,5,2]\n",
    "print(a)\n",
    "\n",
    "#중복된 데이터 빼고 하나씩만 가져오고싶을 때\n",
    "a=set(a)\n",
    "print(a)\n",
    "\n",
    "a=list(a)\n",
    "print(a)"
   ]
  },
  {
   "cell_type": "markdown",
   "id": "bfb51487",
   "metadata": {},
   "source": [
    "## 연산자\n",
    "\n",
    "1. 산술연산자 : +, -, *, /, %, //(몫), **(거듭제곱)\n",
    "<br> 자바처럼 증가, 감소 연산자는 없음\n",
    "\n",
    "2. 논리 연산자 : and or not\n",
    "\n",
    "3. 비교 연산자 : >, >=, <, <=, ==, !=\n",
    "\n",
    "4. 대입 연산자 : =, +=, -=, /=, *= ...\n",
    "\n",
    "5. 포함 여부 연산자 : in, not in\n",
    "\n",
    "6. 비트 연산자 : &, |, ^, ~, >>, << ...\n",
    "   "
   ]
  },
  {
   "cell_type": "code",
   "execution_count": null,
   "id": "4546da4e",
   "metadata": {},
   "outputs": [],
   "source": []
  }
 ],
 "metadata": {
  "kernelspec": {
   "display_name": "Python 3 (ipykernel)",
   "language": "python",
   "name": "python3"
  },
  "language_info": {
   "codemirror_mode": {
    "name": "ipython",
    "version": 3
   },
   "file_extension": ".py",
   "mimetype": "text/x-python",
   "name": "python",
   "nbconvert_exporter": "python",
   "pygments_lexer": "ipython3",
   "version": "3.9.7"
  }
 },
 "nbformat": 4,
 "nbformat_minor": 5
}
