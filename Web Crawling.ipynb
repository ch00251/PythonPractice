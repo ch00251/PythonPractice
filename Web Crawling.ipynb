{
 "cells": [
  {
   "cell_type": "code",
   "execution_count": 1,
   "id": "480454bf",
   "metadata": {},
   "outputs": [],
   "source": [
    "import numpy as np\n",
    "import pandas as pd\n",
    "import matplotlib.pyplot as plt\n",
    "\n",
    "import matplotlib.font_manager as fm\n",
    "font_name = fm.FontProperties(fname=\"C:\\\\Windows\\\\Fonts\\\\malgun.ttf\").get_name()\n",
    "plt.rc(\"font\", family=font_name)\n",
    "\n",
    "import matplotlib as mlp\n",
    "mlp.rcParams[\"axes.unicode_minus\"] = False\n",
    "\n",
    "import seaborn as sns"
   ]
  },
  {
   "cell_type": "markdown",
   "id": "88c8ced7",
   "metadata": {},
   "source": [
    "# 1. XML\n",
    "\n",
    "+ https://docs.python.org/3/library/xml.etree.elementtree.html?highlight=xml#xml.etree.ElementTree.XML\n",
    "\n",
    "+ 특징\n",
    "    - 메타 언어 : GML-> SGML -> XML\n",
    "    - 데이터를 위한 언어\n",
    "    - DBMS\n",
    "    - 데이터 표준화 : 이기종(서로다른) 시스템간의 정보교환, 웹서비스, 유비쿼터스, 사물인터넷 등등"
   ]
  },
  {
   "cell_type": "code",
   "execution_count": 2,
   "id": "f7e2521e",
   "metadata": {},
   "outputs": [],
   "source": [
    "import xml.etree.ElementTree as elemTree\n",
    "\n",
    "# XML을 사용하는 방법\n",
    "# 1. XML 파일로 존재하는 경우 : parse()\n",
    "# 2. XML문자열로 존재하는 경우 : fromstring()"
   ]
  },
  {
   "cell_type": "code",
   "execution_count": null,
   "id": "78c2801e",
   "metadata": {},
   "outputs": [],
   "source": []
  }
 ],
 "metadata": {
  "kernelspec": {
   "display_name": "Python 3 (ipykernel)",
   "language": "python",
   "name": "python3"
  },
  "language_info": {
   "codemirror_mode": {
    "name": "ipython",
    "version": 3
   },
   "file_extension": ".py",
   "mimetype": "text/x-python",
   "name": "python",
   "nbconvert_exporter": "python",
   "pygments_lexer": "ipython3",
   "version": "3.9.7"
  }
 },
 "nbformat": 4,
 "nbformat_minor": 5
}
