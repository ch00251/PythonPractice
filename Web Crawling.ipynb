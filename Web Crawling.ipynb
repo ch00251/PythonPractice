{
 "cells": [
  {
   "cell_type": "code",
   "execution_count": 1,
   "id": "2f0964cd",
   "metadata": {},
   "outputs": [],
   "source": [
    "import numpy as np\n",
    "import pandas as pd\n",
    "import matplotlib.pyplot as plt\n",
    "\n",
    "import matplotlib.font_manager as fm\n",
    "font_name = fm.FontProperties(fname=\"C:\\\\Windows\\\\Fonts\\\\malgun.ttf\").get_name()\n",
    "plt.rc(\"font\", family=font_name)\n",
    "\n",
    "import matplotlib as mlp\n",
    "mlp.rcParams[\"axes.unicode_minus\"] = False\n",
    "\n",
    "import seaborn as sns"
   ]
  },
  {
   "cell_type": "markdown",
   "id": "1845827e",
   "metadata": {},
   "source": [
    "# 1. XML\n",
    "\n",
    "+ https://docs.python.org/3/library/xml.etree.elementtree.html?highlight=xml#xml.etree.ElementTree.XML\n",
    "\n",
    "+ 특징\n",
    "    - 메타 언어 : GML-> SGML -> XML\n",
    "    - 데이터를 위한 언어\n",
    "    - DBMS\n",
    "    - 데이터 표준화 : 이기종(서로다른) 시스템간의 정보교환, 웹서비스, 유비쿼터스, 사물인터넷 등등"
   ]
  },
  {
   "cell_type": "code",
   "execution_count": 2,
   "id": "ba30e2db",
   "metadata": {},
   "outputs": [],
   "source": [
    "import xml.etree.ElementTree as elemTree\n",
    "\n",
    "# XML을 사용하는 방법\n",
    "# 1. XML 파일로 존재하는 경우 : parse()\n",
    "# 2. XML문자열로 존재하는 경우 : fromstring()"
   ]
  },
  {
   "cell_type": "markdown",
   "id": "267802d4",
   "metadata": {},
   "source": [
    "### (1) XML데이터 불러오기"
   ]
  },
  {
   "cell_type": "code",
   "execution_count": 4,
   "id": "600334a4",
   "metadata": {},
   "outputs": [
    {
     "data": {
      "text/plain": [
       "<xml.etree.ElementTree.ElementTree at 0x2ba9d37b610>"
      ]
     },
     "execution_count": 4,
     "metadata": {},
     "output_type": "execute_result"
    }
   ],
   "source": [
    "tree1 = elemTree.parse(\"../data/users.xml\")\n",
    "tree1"
   ]
  },
  {
   "cell_type": "code",
   "execution_count": 5,
   "id": "9f223795",
   "metadata": {},
   "outputs": [
    {
     "data": {
      "text/plain": [
       "<Element 'users' at 0x000002BAA863E770>"
      ]
     },
     "execution_count": 5,
     "metadata": {},
     "output_type": "execute_result"
    }
   ],
   "source": [
    "xmlstr = \"\"\"<?xml version=\"1.0\" encoding=\"utf-8\" ?>\n",
    "<users>\n",
    "    <user grade=\"gold\">\n",
    "            <name>Kim Cheol Soo</name>\n",
    "            <age>25</age>\n",
    "            <birthday>19940215</birthday>\n",
    "        </user>\n",
    "    <user grade=\"diamond\">\n",
    "            <name>Kim Yoo Mee</name>\n",
    "            <age>21</age>\n",
    "            <birthday>19980417</birthday>\n",
    "        </user>\n",
    "</users>\n",
    "\"\"\"\n",
    "\n",
    "tree2 = elemTree.fromstring(xmlstr)\n",
    "tree2"
   ]
  },
  {
   "cell_type": "markdown",
   "id": "3a26d70f",
   "metadata": {},
   "source": [
    "### (2) XML 데이터 다루기"
   ]
  },
  {
   "cell_type": "markdown",
   "id": "8f2194d7",
   "metadata": {},
   "source": [
    "#### 1) 태그명 검색"
   ]
  },
  {
   "cell_type": "code",
   "execution_count": 7,
   "id": "3602a328",
   "metadata": {},
   "outputs": [
    {
     "name": "stdout",
     "output_type": "stream",
     "text": [
      "<Element 'user' at 0x000002BAA863E090>\n",
      "<Element 'user' at 0x000002BAA863E090>\n",
      "<Element 'user' at 0x000002BAA863E1D0>\n"
     ]
    }
   ],
   "source": [
    "print(tree1.find(\"user\"))\n",
    "print(tree1.find(\"user[1]\")) #xml은 인덱스가 1부터 시작\n",
    "print(tree1.find(\"user[2]\"))"
   ]
  },
  {
   "cell_type": "code",
   "execution_count": 9,
   "id": "85939613",
   "metadata": {},
   "outputs": [
    {
     "name": "stdout",
     "output_type": "stream",
     "text": [
      "user\n",
      "{'grade': 'diamond'}\n",
      "diamond\n",
      "------------------------------\n",
      "name\n",
      "{}\n",
      "Kim Yoo Mee\n"
     ]
    }
   ],
   "source": [
    "data=tree1.find(\"user[2]\")\n",
    "print(data.tag)\n",
    "print(data.attrib)#속성찾기\n",
    "print(data.get(\"grade\"))\n",
    "\n",
    "print(\"------------------------------\")\n",
    "\n",
    "username = data.find(\"name\")\n",
    "print(username.tag)\n",
    "print(username.attrib)#속성(속성은 없지만 자식이 있기때문에 {}로 뜸)\n",
    "print(username.text)"
   ]
  },
  {
   "cell_type": "markdown",
   "id": "1c685333",
   "metadata": {},
   "source": [
    "#### 2) 태그 조건으로 검색"
   ]
  },
  {
   "cell_type": "code",
   "execution_count": 10,
   "id": "8c02cc33",
   "metadata": {},
   "outputs": [
    {
     "name": "stdout",
     "output_type": "stream",
     "text": [
      "{'grade': 'diamond'}\n",
      "['grade']\n",
      "[('grade', 'diamond')]\n"
     ]
    }
   ],
   "source": [
    "#data = tree1.find(\"./user[@grade]\")#태그중에 grade라는 속성을 가지고 있는 user tag에 접근하겠다는 뜻. @는 attrib를 의미\n",
    "#data = tree1.find(\"./user[@grade][2]\")#인덱스 이용\n",
    "data=tree1.find(\"./user[@grade='diamond']\")#값 지정 가능\n",
    "\n",
    "print(data.attrib)\n",
    "print(data.keys())\n",
    "print(data.items())"
   ]
  },
  {
   "cell_type": "markdown",
   "id": "55ed8d6e",
   "metadata": {},
   "source": [
    "#### 3) 여러 개의 태그를 한꺼번에 가져오기"
   ]
  },
  {
   "cell_type": "code",
   "execution_count": 12,
   "id": "c14d6327",
   "metadata": {},
   "outputs": [
    {
     "name": "stdout",
     "output_type": "stream",
     "text": [
      "{'grade': 'gold'}\n",
      "Kim Cheol Soo\n",
      "{'grade': 'diamond'}\n",
      "Kim Yoo Mee\n"
     ]
    }
   ],
   "source": [
    "users=tree1.findall(\"./user\") #./는 생략가능(현재 위치를 표시한 것)\n",
    "users\n",
    "\n",
    "for user in users:\n",
    "    print(user.attrib)\n",
    "    print(user.find(\"name\").text)"
   ]
  },
  {
   "cell_type": "markdown",
   "id": "7b54b90e",
   "metadata": {},
   "source": [
    "#### 4) 연습문제"
   ]
  },
  {
   "cell_type": "code",
   "execution_count": 13,
   "id": "b0525531",
   "metadata": {},
   "outputs": [],
   "source": [
    "str = \"\"\"<?xml version=\"1.0\"?>\n",
    "<data>\n",
    "    <country name=\"Liechtenstein\">\n",
    "        <rank>1</rank>\n",
    "        <year>2008</year>\n",
    "        <gdppc>141100</gdppc>\n",
    "        <neighbor name=\"Austria\" direction=\"E\" />\n",
    "        <neighbor name=\"Switzerland\" direction=\"W\"/>\n",
    "    </country>\n",
    "    <country name=\"Singapore\">\n",
    "        <rank>4</rank>\n",
    "        <year>2011</year>\n",
    "        <gdppc>59900</gdppc>\n",
    "        <neighbor name=\"Malaysia\" direction=\"N\"/>\n",
    "    </country>\n",
    "    <country name=\"Panama\">\n",
    "        <rank>68</rank>\n",
    "        <year>2011</year>\n",
    "        <gdppc>13600</gdppc>\n",
    "        <neighbor name=\"Costa Rica\" direction=\"W\"/>\n",
    "        <neighbor name=\"Colombia\" direction=\"E\"/>\n",
    "    </country>\n",
    "</data>\n",
    "\"\"\"\n",
    "\n",
    "data = elemTree.fromstring(str)"
   ]
  },
  {
   "cell_type": "code",
   "execution_count": 20,
   "id": "0571d109",
   "metadata": {
    "scrolled": true
   },
   "outputs": [
    {
     "name": "stdout",
     "output_type": "stream",
     "text": [
      "Malaysia\n",
      "W\n",
      "Liechtenstein\n",
      "141100\n",
      "Singapore\n",
      "59900\n",
      "Panama\n",
      "13600\n",
      "Austria\n",
      "Switzerland\n",
      "Malaysia\n",
      "Costa Rica\n",
      "Colombia\n"
     ]
    }
   ],
   "source": [
    "# Singapore에 있는 이웃나라 이름은?\n",
    "s=data.find(\"country[2]\")\n",
    "n=s.find(\"neighbor[@name]\")\n",
    "print(n.get(\"name\"))\n",
    "\n",
    "#Panama에 있는 이웃나라 중 CostaRica의 방향은\n",
    "s=data.find(\"country[3]\")\n",
    "neis=s.findall(\"neighbor\")\n",
    "for nei in neis:\n",
    "    if nei.get(\"name\")==\"Costa Rica\":\n",
    "        print(nei.get(\"direction\"))\n",
    "        \n",
    "# 각 나라의 gdppc를 조회\n",
    "cons=data.findall(\"country\")\n",
    "for con in cons:\n",
    "    print(con.get(\"name\"))\n",
    "    print(con.find(\"gdppc\").text)\n",
    "    \n",
    "# 각 나라의 인접국가를 조회\n",
    "cons=data.findall(\"country\")\n",
    "for con in cons:\n",
    "    neis=con.findall(\"neighbor\")\n",
    "    for nei in neis:\n",
    "        print(nei.get(\"name\"))"
   ]
  },
  {
   "cell_type": "markdown",
   "id": "d312aee1",
   "metadata": {},
   "source": [
    "# 2. JSON"
   ]
  },
  {
   "cell_type": "code",
   "execution_count": 22,
   "id": "0e6ec011",
   "metadata": {},
   "outputs": [],
   "source": [
    "import json\n",
    "\n",
    "# dumps() : 데이터를 저장\n",
    "# loads() : 데이터를 불러올 때"
   ]
  },
  {
   "cell_type": "code",
   "execution_count": 23,
   "id": "03c11ca7",
   "metadata": {},
   "outputs": [
    {
     "name": "stdout",
     "output_type": "stream",
     "text": [
      "<class 'dict'>\n",
      "{'name': '홍길동', 'birth': '0101', 'age': 20}\n",
      "------------------------------------------------------------------------\n",
      "<class 'str'>\n",
      "{\"name\": \"\\ud64d\\uae38\\ub3d9\", \"birth\": \"0101\", \"age\": 20}\n",
      "------------------------------------------------------------------------\n",
      "<class 'str'>\n",
      "[1, 2, 3]\n",
      "------------------------------------------------------------------------\n",
      "<class 'dict'>\n",
      "{'name': '홍길동', 'birth': '0101', 'age': 20}\n"
     ]
    }
   ],
   "source": [
    "j1 = {\"name\":\"홍길동\", \"birth\":\"0101\", \"age\":20}#dict타입\n",
    "print(type(j1))\n",
    "print(j1)\n",
    "\n",
    "print(\"------------------------------------------------------------------------\")\n",
    "\n",
    "#dict형식을 바로 문자열로 바꿀 수 없기 때문에 json.dumps를 이용한다\n",
    "j2 = json.dumps(j1)\n",
    "print(type(j2))#json이라고 특별한 형식이 있는게 아님. 그냥 문자열로 저장됨\n",
    "print(j2)\n",
    "\n",
    "print(\"------------------------------------------------------------------------\")\n",
    "\n",
    "#j3 = str([1, 2, 3])\n",
    "j3 = json.dumps([1, 2, 3])#튜플\n",
    "print(type(j3))\n",
    "print(j3)\n",
    "\n",
    "print(\"------------------------------------------------------------------------\")\n",
    "\n",
    "j4 = json.loads(j2)#문자열로 저장된 j2를 불러오면 다시 dict형식으로 불러와짐\n",
    "print(type(j4))\n",
    "print(j4)"
   ]
  },
  {
   "cell_type": "code",
   "execution_count": 24,
   "id": "868221c8",
   "metadata": {
    "scrolled": true
   },
   "outputs": [
    {
     "name": "stdout",
     "output_type": "stream",
     "text": [
      "<class 'str'>\n"
     ]
    }
   ],
   "source": [
    "obj = \"\"\"\n",
    "{\n",
    "\t\"id\": \"0001\",\n",
    "\t\"type\": \"donut\",\n",
    "\t\"name\": \"Cake\",\n",
    "\t\"ppu\": 0.55,\n",
    "\t\"batters\":\n",
    "\t\t{\n",
    "\t\t\t\"batter\":\n",
    "\t\t\t\t[\n",
    "\t\t\t\t\t{ \"id\": \"1001\", \"type\": \"Regular\" },\n",
    "\t\t\t\t\t{ \"id\": \"1002\", \"type\": \"Chocolate\" },\n",
    "\t\t\t\t\t{ \"id\": \"1003\", \"type\": \"Blueberry\" },\n",
    "\t\t\t\t\t{ \"id\": \"1004\", \"type\": \"Devil's Food\" }\n",
    "\t\t\t\t]\n",
    "\t\t},\n",
    "\t\"topping\":\n",
    "\t\t[\n",
    "\t\t\t{ \"id\": \"5001\", \"type\": \"None\" },\n",
    "\t\t\t{ \"id\": \"5002\", \"type\": \"Glazed\" },\n",
    "\t\t\t{ \"id\": \"5005\", \"type\": \"Sugar\" },\n",
    "\t\t\t{ \"id\": \"5007\", \"type\": \"Powdered Sugar\" },\n",
    "\t\t\t{ \"id\": \"5006\", \"type\": \"Chocolate with Sprinkles\" },\n",
    "\t\t\t{ \"id\": \"5003\", \"type\": \"Chocolate\" },\n",
    "\t\t\t{ \"id\": \"5004\", \"type\": \"Maple\" }\n",
    "\t\t]\n",
    "}\n",
    "\"\"\"\n",
    "\n",
    "print(type(obj))"
   ]
  },
  {
   "cell_type": "code",
   "execution_count": 26,
   "id": "6ed16636",
   "metadata": {},
   "outputs": [
    {
     "name": "stdout",
     "output_type": "stream",
     "text": [
      "<class 'dict'>\n",
      "0001\n",
      "1001\n"
     ]
    }
   ],
   "source": [
    "result=json.loads(obj)#문자열 json으로 읽어오기\n",
    "print(type(result))\n",
    "\n",
    "print(result[\"id\"]) #첫번째로 걸리는 id가 출력됨\n",
    "\n",
    "print(result[\"batters\"][\"batter\"][0][\"id\"])"
   ]
  },
  {
   "cell_type": "markdown",
   "id": "4a2d2914",
   "metadata": {},
   "source": []
  }
 ],
 "metadata": {
  "kernelspec": {
   "display_name": "Python 3 (ipykernel)",
   "language": "python",
   "name": "python3"
  },
  "language_info": {
   "codemirror_mode": {
    "name": "ipython",
    "version": 3
   },
   "file_extension": ".py",
   "mimetype": "text/x-python",
   "name": "python",
   "nbconvert_exporter": "python",
   "pygments_lexer": "ipython3",
   "version": "3.9.7"
  }
 },
 "nbformat": 4,
 "nbformat_minor": 5
}
