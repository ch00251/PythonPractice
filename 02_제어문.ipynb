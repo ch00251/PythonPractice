{
 "cells": [
  {
   "cell_type": "markdown",
   "id": "ce0db967",
   "metadata": {},
   "source": [
    "## 1. 입력기능"
   ]
  },
  {
   "cell_type": "code",
   "execution_count": 2,
   "id": "799ef3ef",
   "metadata": {},
   "outputs": [
    {
     "name": "stdout",
     "output_type": "stream",
     "text": [
      "당신의 이름은 홍길동\n",
      "안녕하세요! 홍길동님 어서 오세요~\n"
     ]
    }
   ],
   "source": [
    "name=input(\"당신의 이름은 \")\n",
    "print(\"안녕하세요! {}님 어서 오세요~\".format(name))"
   ]
  },
  {
   "cell_type": "code",
   "execution_count": 4,
   "id": "ff8b2c41",
   "metadata": {},
   "outputs": [
    {
     "name": "stdout",
     "output_type": "stream",
     "text": [
      "첫번째 숫자:100\n",
      "두번째 숫자:200\n",
      "결과:  100200\n",
      "첫번째 숫자:100\n",
      "두번째 숫자:200\n",
      "결과:  300\n"
     ]
    }
   ],
   "source": [
    "num1 = input(\"첫번째 숫자:\")\n",
    "num2 = input(\"두번째 숫자:\")\n",
    "\n",
    "print(\"결과: \",num1+num2) #결과는 첫번째숫자두번째숫자 이렇게 출력\n",
    "\n",
    "num1 = int(input(\"첫번째 숫자:\"))\n",
    "num2 = int(input(\"두번째 숫자:\"))\n",
    "\n",
    "print(\"결과: \",num1+num2)"
   ]
  },
  {
   "cell_type": "markdown",
   "id": "ee796392",
   "metadata": {},
   "source": [
    "## 2. 조건문\n",
    "    \n",
    "    1) if 조건식:\n",
    "            문장\n",
    "            ...\n",
    "            \n",
    "       if 조건식 : 문장 (한문장일 경우)\n",
    "       \n",
    "    2) if 조건식:\n",
    "            문장\n",
    "            ...\n",
    "       else:\n",
    "            문장\n",
    "            ...\n",
    "            \n",
    "    3) if 조건식:\n",
    "            문장\n",
    "            ...\n",
    "       elif 조건식:\n",
    "            문장\n",
    "            ...\n",
    "       elif 조건식:\n",
    "            문장\n",
    "            ...   \n",
    "       "
   ]
  },
  {
   "cell_type": "code",
   "execution_count": 14,
   "id": "2a4324eb",
   "metadata": {
    "scrolled": true
   },
   "outputs": [
    {
     "name": "stdout",
     "output_type": "stream",
     "text": [
      "정답 입력 : v\n",
      "오답\n"
     ]
    }
   ],
   "source": [
    "##### 입력받은 값이 a,b,c,d 이면 \"정답\"이라고 출력하고 그렇지 않으면 \"오답\"이라고 출력\n",
    "\n",
    "answer = input(\"정답 입력 : \")\n",
    "\n",
    "# if(answer == \"a\" or answer==\"b\" or answer==\"c\" or answer==\"d\") :\n",
    "#     print(\"정답\")\n",
    "# else :\n",
    "#     print(\"오답\")\n",
    "\n",
    "# if answer in ['a','b','c','d']:\n",
    "#     print(\"정답\")\n",
    "# else :\n",
    "#     print(\"오답\")\n",
    "\n",
    "# correct = ('a','b','c','d')\n",
    "# if(correct.count(answer))>0:\n",
    "#     print(\"정답\")\n",
    "# else:\n",
    "#     print(\"오답\")\n",
    "\n",
    "if answer >= 'a' and answer <='d':\n",
    "    print(\"정답\")\n",
    "else:\n",
    "    print(\"오답\")"
   ]
  },
  {
   "cell_type": "code",
   "execution_count": 15,
   "id": "ec7f402b",
   "metadata": {},
   "outputs": [
    {
     "name": "stdout",
     "output_type": "stream",
     "text": [
      "숫자1: 5\n",
      "연산자: *\n",
      "숫자2: 8\n",
      "\n",
      "\n",
      "결과 : 5 * 8 = 40\n"
     ]
    }
   ],
   "source": [
    "\"\"\"\n",
    "전자 계산기 프로그램\n",
    "-----------------------\n",
    "연산자 : +\n",
    "숫자1 : 10\n",
    "숫자2 : 5\n",
    "\n",
    "결과:10+5=15\n",
    "\"\"\"\n",
    "\n",
    "num1=int(input(\"숫자1: \"))\n",
    "op=input(\"연산자: \")\n",
    "num2=int(input(\"숫자2: \"))\n",
    "if op==\"+\":\n",
    "    result=num1+num2\n",
    "elif op==\"-\":\n",
    "    result=num1-num2\n",
    "elif op==\"*\":\n",
    "    result=num1*num2\n",
    "elif op==\"/\":\n",
    "    result=num1/num2\n",
    "    \n",
    "print(\"\\n\\n결과 : {} {} {} = {}\".format(num1,op,num2,result))"
   ]
  },
  {
   "cell_type": "markdown",
   "id": "cf095f11",
   "metadata": {},
   "source": [
    "## 3. 반복문\n",
    "\n",
    "+ 강제 종료\n",
    "    - break \n",
    "    - continue"
   ]
  },
  {
   "cell_type": "markdown",
   "id": "0823ebcd",
   "metadata": {},
   "source": [
    "### (1) while\n",
    "\n",
    "    while 조건식:\n",
    "        문장\n",
    "        ..."
   ]
  },
  {
   "cell_type": "code",
   "execution_count": 16,
   "id": "9750558b",
   "metadata": {},
   "outputs": [],
   "source": [
    "##### 전자계산기를 while문으로 작성 : x를 입력하면 종료"
   ]
  },
  {
   "cell_type": "markdown",
   "id": "c30b645a",
   "metadata": {},
   "source": [
    "### (2) for\n",
    "\n",
    "    for 변수 in 집합자료형 : \n",
    "        문장"
   ]
  },
  {
   "cell_type": "code",
   "execution_count": 26,
   "id": "d8d49062",
   "metadata": {},
   "outputs": [
    {
     "name": "stdout",
     "output_type": "stream",
     "text": [
      "10\n",
      "20\n",
      "홍길동\n",
      "3.14\n",
      "True\n",
      "========================\n",
      "10\n",
      "20\n",
      "홍길동\n",
      "3.14\n",
      "True\n"
     ]
    }
   ],
   "source": [
    "data=[10,20,\"홍길동\",3.14,True]\n",
    "i=0\n",
    "#while i<len(data):\n",
    "while i<5:\n",
    "    print(data[i])\n",
    "    i+=1\n",
    "print(\"=====================\")\n",
    "for i in data:\n",
    "    print(i)\n"
   ]
  },
  {
   "cell_type": "code",
   "execution_count": 44,
   "id": "2fd38846",
   "metadata": {},
   "outputs": [
    {
     "name": "stdout",
     "output_type": "stream",
     "text": [
      "********************\n",
      "====================\n",
      "********************"
     ]
    }
   ],
   "source": [
    "# 반복문으로 * 20개 출력\n",
    "# while\n",
    "cnt=0\n",
    "while cnt<20:\n",
    "    print(\"*\",end=\"\")#end 옵션 잘 기억하기(end에 /를 넣으면 사이사이에 /가 들어감)\n",
    "    cnt+=1\n",
    "\n",
    "print(\"\\n====================\")\n",
    "#for\n",
    "for i in range(20):\n",
    "    print(\"*\",end=\"\")\n",
    "\n",
    "    "
   ]
  },
  {
   "cell_type": "code",
   "execution_count": 48,
   "id": "214eebcb",
   "metadata": {},
   "outputs": [
    {
     "name": "stdout",
     "output_type": "stream",
     "text": [
      "\n",
      "*\n",
      "**\n",
      "***\n",
      "****\n",
      "*****\n"
     ]
    }
   ],
   "source": [
    "\"\"\"\n",
    "*\n",
    "**\n",
    "***\n",
    "****\n",
    "*****\n",
    "\"\"\"\n",
    "for v1 in range(6):\n",
    "    for v2 in range(v1):\n",
    "        print(\"*\",end=\"\")\n",
    "    print()"
   ]
  },
  {
   "cell_type": "markdown",
   "id": "a48012b3",
   "metadata": {},
   "source": [
    "### (3) List Comprehension"
   ]
  },
  {
   "cell_type": "code",
   "execution_count": 55,
   "id": "f3064718",
   "metadata": {},
   "outputs": [
    {
     "name": "stdout",
     "output_type": "stream",
     "text": [
      "[0, 1, 2, 3, 4, 5, 6, 7, 8, 9]\n",
      "------------------------------\n",
      "[0, 1, 2, 3, 4, 5, 6, 7, 8, 9]\n"
     ]
    }
   ],
   "source": [
    "result=[]\n",
    "for i in range(10):\n",
    "    result.append(i)\n",
    "    \n",
    "print(result)\n",
    "\n",
    "print(\"------------------------------\")\n",
    "\n",
    "result=[i for i in range(10)]\n",
    "print(result)"
   ]
  },
  {
   "cell_type": "code",
   "execution_count": 65,
   "id": "1d0bb91b",
   "metadata": {},
   "outputs": [
    {
     "name": "stdout",
     "output_type": "stream",
     "text": [
      "[2, 4, 6, 8]\n"
     ]
    }
   ],
   "source": [
    "# 0 부터 9까지 짝수만 리스트에 저장\n",
    "result = [i for i in range(1,10)  if i%2==0]\n",
    "print(result)"
   ]
  },
  {
   "cell_type": "code",
   "execution_count": 69,
   "id": "a87979b2",
   "metadata": {},
   "outputs": [
    {
     "name": "stdout",
     "output_type": "stream",
     "text": [
      "['AD', 'AE', 'AA', 'BD', 'BE', 'BA', 'CD', 'CE', 'CA']\n",
      "------------------------------------------------------\n",
      "['AD', 'AE', 'AA', 'BD', 'BE', 'BA', 'CD', 'CE', 'CA']\n"
     ]
    }
   ],
   "source": [
    "c1=[\"A\",\"B\",\"C\"]\n",
    "c2=[\"D\",\"E\",\"A\"]\n",
    "# [\"AD\",\"AE\",\"AA\",\"BD\",\"BE\",\"BA\",\"CD\",\"CE\",\"CA\"]\n",
    "result=[];\n",
    "for i in c1:\n",
    "    for j in c2:\n",
    "        result.append(i+j)\n",
    "print(result)\n",
    "print(\"------------------------------------------------------\")\n",
    "#List Comprehension 사용하기\n",
    "result=[i+j for i in c1 for j in c2 ]\n",
    "print(result)"
   ]
  },
  {
   "cell_type": "code",
   "execution_count": 71,
   "id": "8b64b0f0",
   "metadata": {},
   "outputs": [
    {
     "name": "stdout",
     "output_type": "stream",
     "text": [
      "['AD', 'AE', 'BD', 'BE', 'BA', 'CD', 'CE', 'CA']\n"
     ]
    }
   ],
   "source": [
    "# [\"AD\",\"AE\",\"BD\",\"BE\",\"BA\",\"CD\",\"CE\",\"CA\"] 중복된 aa 제거\n",
    "result=[i+j for i in c1 for j in c2 if i!=j]\n",
    "print(result)"
   ]
  },
  {
   "cell_type": "code",
   "execution_count": 83,
   "id": "afc41197",
   "metadata": {},
   "outputs": [
    {
     "name": "stdout",
     "output_type": "stream",
     "text": [
      "[['AD', 'AE', 'AA'], ['BD', 'BE', 'BA'], ['CD', 'CE', 'CA']]\n"
     ]
    }
   ],
   "source": [
    "# [[\"AD\",\"AE\",\"AA\"],[]\"BD\",\"BE\",\"BA\"],[\"CD\",\"CE\",\"CA\"]]\n",
    "result=[[i+j for j in c2] for i in c1]\n",
    "print(result)"
   ]
  },
  {
   "cell_type": "markdown",
   "id": "c9fceddd",
   "metadata": {},
   "source": [
    "## 4. 연습문제"
   ]
  },
  {
   "cell_type": "code",
   "execution_count": 85,
   "id": "a1db7793",
   "metadata": {},
   "outputs": [
    {
     "name": "stdout",
     "output_type": "stream",
     "text": [
      "some\n"
     ]
    }
   ],
   "source": [
    "#1번\n",
    "words = \"some where over ther rainbow way up high\"\n",
    "\"\"\"\n",
    "[\"SOME\", \"some\", 4]\n",
    "\"\"\"\n",
    "a=words[0:4]\n",
    "print(a)"
   ]
  },
  {
   "cell_type": "code",
   "execution_count": null,
   "id": "d1abe206",
   "metadata": {},
   "outputs": [],
   "source": [
    "#2번\n",
    "\"\"\"\n",
    "친구 관리 프로그램\n",
    "====================\n",
    "\n",
    "1.친구 리스트 출력\n",
    "2.친구 추가\n",
    "3.친구 삭제\n",
    "4.이름 변경\n",
    "9.종료\n",
    "메뉴를 선택 : 2 (엔터)\n",
    "이름을 입력 : 홍길동 (엔터)\n",
    "-----------------------\n",
    "1.친구 리스트 출력\n",
    "2.친구 추가\n",
    "3.친구 삭제\n",
    "4.이름 변경\n",
    "9.종료\n",
    "메뉴를 선택 : 2 (엔터)\n",
    "이름을 입력 : 임꺽정 (엔터)\n",
    "-----------------------\n",
    "1.친구 리스트 출력\n",
    "2.친구 추가\n",
    "3.친구 삭제\n",
    "4.이름 변경\n",
    "9.종료\n",
    "메뉴를 선택 : 1 (엔터)\n",
    "[\"홍길동\", \"임꺽정\"]\n",
    "----------------------\n",
    "1.친구 리스트 출력\n",
    "2.친구 추가\n",
    "3.친구 삭제\n",
    "4.이름 변경\n",
    "9.종료\n",
    "메뉴를 선택 : 4 (엔터)\n",
    "변경할 이름 선택 : 홍길동 (엔터)\n",
    "변경하고 싶은 이름 입력 : 홍길순 (엔터)\n",
    "-------------------------------\n",
    "1.친구 리스트 출력\n",
    "2.친구 추가\n",
    "3.친구 삭제\n",
    "4.이름 변경\n",
    "9.종료\n",
    "메뉴를 선택 : 1 (엔터)\n",
    "[\"홍길순\", \"임꺽정\"]\n",
    "-------------------------------\n",
    "1.친구 리스트 출력\n",
    "2.친구 추가\n",
    "3.친구 삭제\n",
    "4.이름 변경\n",
    "9.종료\n",
    "메뉴를 선택 : 3 (엔터)\n",
    "삭제할 이름 입력 : 홍길순\n",
    "------------------------------\n",
    "\"\"\"\n"
   ]
  },
  {
   "cell_type": "code",
   "execution_count": 86,
   "id": "b21dc4a2",
   "metadata": {},
   "outputs": [
    {
     "name": "stdout",
     "output_type": "stream",
     "text": [
      "친구 관리 리스트\n",
      "=============\n",
      "1.친구 리스트 출력\n",
      "2.친구 추가\n",
      "3.친구 삭제\n",
      "4.이름 변경\n",
      "9.종료\n"
     ]
    }
   ],
   "source": [
    "f=[\"친구 관리 리스트\",\"=============\",\"1.친구 리스트 출력\",\"2.친구 추가\",\"3.친구 삭제\",\"4.이름 변경\",\"9.종료\"]\n",
    "for i in range(len(f)):\n",
    "    print(f[i])"
   ]
  },
  {
   "cell_type": "code",
   "execution_count": null,
   "id": "320a464e",
   "metadata": {},
   "outputs": [],
   "source": []
  }
 ],
 "metadata": {
  "kernelspec": {
   "display_name": "Python 3 (ipykernel)",
   "language": "python",
   "name": "python3"
  },
  "language_info": {
   "codemirror_mode": {
    "name": "ipython",
    "version": 3
   },
   "file_extension": ".py",
   "mimetype": "text/x-python",
   "name": "python",
   "nbconvert_exporter": "python",
   "pygments_lexer": "ipython3",
   "version": "3.9.7"
  }
 },
 "nbformat": 4,
 "nbformat_minor": 5
}
